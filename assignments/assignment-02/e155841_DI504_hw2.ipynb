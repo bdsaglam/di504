{
  "nbformat": 4,
  "nbformat_minor": 0,
  "metadata": {
    "colab": {
      "name": "e155841_DI504_hw2.ipynb",
      "provenance": [],
      "collapsed_sections": []
    },
    "kernelspec": {
      "display_name": "Python 3",
      "language": "python",
      "name": "python3"
    },
    "language_info": {
      "codemirror_mode": {
        "name": "ipython",
        "version": 3
      },
      "file_extension": ".py",
      "mimetype": "text/x-python",
      "name": "python",
      "nbconvert_exporter": "python",
      "pygments_lexer": "ipython3",
      "version": "3.8.5"
    },
    "accelerator": "GPU"
  },
  "cells": [
    {
      "cell_type": "code",
      "metadata": {
        "id": "5t5EnxeH0hb0"
      },
      "source": [
        "import numpy as np\n",
        "\n",
        "import torch\n",
        "\n",
        "import matplotlib.pyplot as plt"
      ],
      "execution_count": 134,
      "outputs": []
    },
    {
      "cell_type": "code",
      "source": [
        "# taken from https://gist.github.com/ihoromi4/b681a9088f348942b01711f251e5f964\n",
        "\n",
        "def seed_everything(seed: int):\n",
        "    import random, os\n",
        "    import numpy as np\n",
        "    import torch\n",
        "    \n",
        "    random.seed(seed)\n",
        "    os.environ['PYTHONHASHSEED'] = str(seed)\n",
        "    np.random.seed(seed)\n",
        "    torch.manual_seed(seed)\n",
        "    torch.cuda.manual_seed(seed)\n",
        "    torch.backends.cudnn.deterministic = True\n",
        "    torch.backends.cudnn.benchmark = True\n",
        "    \n",
        "seed_everything(42)"
      ],
      "metadata": {
        "id": "87SEUjRWMX06"
      },
      "execution_count": 135,
      "outputs": []
    },
    {
      "cell_type": "markdown",
      "source": [
        "## Data"
      ],
      "metadata": {
        "id": "GQk49P5XXIV7"
      }
    },
    {
      "cell_type": "markdown",
      "source": [
        "torchvision CIFAR10 dataset's images have pixel values between [0,1], we'll transform them \n",
        "to [-1,1] so that it's symmetric."
      ],
      "metadata": {
        "id": "J874QmxYLn6i"
      }
    },
    {
      "cell_type": "code",
      "source": [
        "from torch.utils.data import Dataset, DataLoader, TensorDataset, random_split\n",
        "from torchvision import datasets\n",
        "from torchvision.transforms import Compose, ToTensor, Normalize\n",
        "\n",
        "transform = Compose([\n",
        "    ToTensor(),\n",
        "    Normalize((0.5, 0.5, 0.5), (0.5, 0.5, 0.5))\n",
        "])\n",
        "\n",
        "ds = datasets.CIFAR10(root='./data', train=True, download=True, transform=transform)\n",
        "test_ds = datasets.CIFAR10(root='./data', train=False, download=True, transform=transform)\n",
        "test_dl = DataLoader(test_ds, batch_size=32, shuffle=False, num_workers=2)\n",
        "\n",
        "\n",
        "def make_dataloaders(batch_size=32):\n",
        "    train_ds, val_ds = random_split(ds, [45000, 5000] ,generator=torch.Generator().manual_seed(42))\n",
        "    train_dl = DataLoader(train_ds, batch_size=batch_size,  num_workers=2)\n",
        "    val_dl = DataLoader(val_ds, batch_size=batch_size,  num_workers=2)\n",
        "    return train_dl, val_dl\n"
      ],
      "metadata": {
        "colab": {
          "base_uri": "https://localhost:8080/"
        },
        "id": "UbdSAJZXcFmu",
        "outputId": "556df7df-90f7-4d2b-dbda-18d018e6a05d"
      },
      "execution_count": 147,
      "outputs": [
        {
          "output_type": "stream",
          "name": "stdout",
          "text": [
            "Files already downloaded and verified\n",
            "Files already downloaded and verified\n"
          ]
        }
      ]
    },
    {
      "cell_type": "code",
      "source": [
        "# partly taken from https://pytorch.org/tutorials/beginner/blitz/cifar10_tutorial.html\n",
        "\n",
        "CLASSES = ds.classes\n",
        "\n",
        "def show_sample(img, y):\n",
        "    img = img / 2 + 0.5     # unnormalize\n",
        "    plt.title(CLASSES[y])\n",
        "    plt.imshow(np.transpose(img.numpy(), (1, 2, 0)).squeeze())\n",
        "    plt.show()"
      ],
      "metadata": {
        "id": "d1CQfQOAOPwT"
      },
      "execution_count": 148,
      "outputs": []
    },
    {
      "cell_type": "markdown",
      "source": [
        "Let's inspect a few data points."
      ],
      "metadata": {
        "id": "HEH36vz1QBMK"
      }
    },
    {
      "cell_type": "code",
      "source": [
        "images, labels = iter(test_dl).next()\n",
        "for i in range(3):\n",
        "    show_sample(images[i], labels[i])"
      ],
      "metadata": {
        "colab": {
          "base_uri": "https://localhost:8080/",
          "height": 809
        },
        "id": "y6L3Hq7QPGpc",
        "outputId": "20c2d844-23aa-4f2b-c363-21d4cb6ca929"
      },
      "execution_count": 149,
      "outputs": [
        {
          "output_type": "display_data",
          "data": {
            "image/png": "[encoded data removed]",
            "text/plain": [
              "<Figure size 432x288 with 1 Axes>"
            ]
          },
          "metadata": {
            "needs_background": "light"
          }
        },
        {
          "output_type": "display_data",
          "data": {
            "image/png": "[encoded data removed]",
            "text/plain": [
              "<Figure size 432x288 with 1 Axes>"
            ]
          },
          "metadata": {
            "needs_background": "light"
          }
        },
        {
          "output_type": "display_data",
          "data": {
            "image/png": "[encoded data removed]",
            "text/plain": [
              "<Figure size 432x288 with 1 Axes>"
            ]
          },
          "metadata": {
            "needs_background": "light"
          }
        }
      ]
    },
    {
      "cell_type": "markdown",
      "source": [
        "## Model Architecture"
      ],
      "metadata": {
        "id": "Bgp5co1Bjvfk"
      }
    },
    {
      "cell_type": "markdown",
      "source": [
        "We'll compare a simple convolutional neural network and a ResNet."
      ],
      "metadata": {
        "id": "b_zaLTVvr4ko"
      }
    },
    {
      "cell_type": "markdown",
      "source": [
        "#### Our simple convolutional neural network"
      ],
      "metadata": {
        "id": "PeZzLGYUriH6"
      }
    },
    {
      "cell_type": "code",
      "metadata": {
        "id": "nbxcSt1c0hcG"
      },
      "source": [
        "# taken from https://pytorch.org/tutorials/beginner/blitz/cifar10_tutorial.html\n",
        "\n",
        "import torch.nn as nn\n",
        "import torch.nn.functional as F\n",
        "\n",
        "class Net(nn.Module):\n",
        "    def __init__(self):\n",
        "        super().__init__()\n",
        "        self.net = nn.Sequential(\n",
        "          nn.Conv2d(3, 16, 3),\n",
        "          nn.MaxPool2d(2, 2),\n",
        "          nn.ReLU(),\n",
        "          nn.Conv2d(16, 32, 3),\n",
        "          nn.MaxPool2d(2, 2),\n",
        "          nn.ReLU(),\n",
        "          nn.Conv2d(32, 64, 3),\n",
        "          nn.MaxPool2d(2, 2),\n",
        "          nn.Flatten(),\n",
        "          nn.Linear(256, 10)\n",
        "        )\n",
        "\n",
        "    def forward(self, x):\n",
        "        return self.net(x)\n"
      ],
      "execution_count": 150,
      "outputs": []
    },
    {
      "cell_type": "markdown",
      "source": [
        "#### ResNet"
      ],
      "metadata": {
        "id": "6U9RXamMrmS2"
      }
    },
    {
      "cell_type": "code",
      "source": [
        "# taken from https://github.com/yunjey/pytorch-tutorial/blob/master/tutorials/02-intermediate/deep_residual_network/main.py\n",
        "\n",
        "import torch.nn as nn\n",
        "import torch.nn.functional as F\n",
        "\n",
        "# 3x3 convolution\n",
        "def conv3x3(in_channels, out_channels, stride=1):\n",
        "    return nn.Conv2d(in_channels, out_channels, kernel_size=3, \n",
        "                     stride=stride, padding=1, bias=False)\n",
        "\n",
        "# Residual block\n",
        "class ResidualBlock(nn.Module):\n",
        "    def __init__(self, in_channels, out_channels, stride=1, downsample=None):\n",
        "        super(ResidualBlock, self).__init__()\n",
        "        self.conv1 = conv3x3(in_channels, out_channels, stride)\n",
        "        self.bn1 = nn.BatchNorm2d(out_channels)\n",
        "        self.relu = nn.ReLU(inplace=True)\n",
        "        self.conv2 = conv3x3(out_channels, out_channels)\n",
        "        self.bn2 = nn.BatchNorm2d(out_channels)\n",
        "        self.downsample = downsample\n",
        "\n",
        "    def forward(self, x):\n",
        "        residual = x\n",
        "        out = self.conv1(x)\n",
        "        out = self.bn1(out)\n",
        "        out = self.relu(out)\n",
        "        out = self.conv2(out)\n",
        "        out = self.bn2(out)\n",
        "        if self.downsample:\n",
        "            residual = self.downsample(x)\n",
        "        out += residual\n",
        "        out = self.relu(out)\n",
        "        return out\n",
        "\n",
        "# ResNet\n",
        "class ResNet(nn.Module):\n",
        "    def __init__(self, block, layers, num_classes=10):\n",
        "        super(ResNet, self).__init__()\n",
        "        self.in_channels = 16\n",
        "        self.conv = conv3x3(3, 16)\n",
        "        self.bn = nn.BatchNorm2d(16)\n",
        "        self.relu = nn.ReLU(inplace=True)\n",
        "        self.layer1 = self.make_layer(block, 16, layers[0])\n",
        "        self.layer2 = self.make_layer(block, 32, layers[1], 2)\n",
        "        self.layer3 = self.make_layer(block, 64, layers[2], 2)\n",
        "        self.avg_pool = nn.AvgPool2d(8)\n",
        "        self.fc = nn.Linear(64, num_classes)\n",
        "\n",
        "    def make_layer(self, block, out_channels, blocks, stride=1):\n",
        "        downsample = None\n",
        "        if (stride != 1) or (self.in_channels != out_channels):\n",
        "            downsample = nn.Sequential(\n",
        "                conv3x3(self.in_channels, out_channels, stride=stride),\n",
        "                nn.BatchNorm2d(out_channels))\n",
        "        layers = []\n",
        "        layers.append(block(self.in_channels, out_channels, stride, downsample))\n",
        "        self.in_channels = out_channels\n",
        "        for i in range(1, blocks):\n",
        "            layers.append(block(out_channels, out_channels))\n",
        "        return nn.Sequential(*layers)\n",
        "\n",
        "    def forward(self, x):\n",
        "        out = self.conv(x)\n",
        "        out = self.bn(out)\n",
        "        out = self.relu(out)\n",
        "        out = self.layer1(out)\n",
        "        out = self.layer2(out)\n",
        "        out = self.layer3(out)\n",
        "        out = self.avg_pool(out)\n",
        "        out = out.view(out.size(0), -1)\n",
        "        out = self.fc(out)\n",
        "        return out\n"
      ],
      "metadata": {
        "id": "Zo9Bkni6kd_c"
      },
      "execution_count": 151,
      "outputs": []
    },
    {
      "cell_type": "markdown",
      "source": [
        "## Train"
      ],
      "metadata": {
        "id": "CAaNwrsKT9K4"
      }
    },
    {
      "cell_type": "code",
      "metadata": {
        "id": "xKOZ8G5W0hcO"
      },
      "source": [
        "def evaluate(model, dl):\n",
        "    model.eval()\n",
        "    loss_fn = torch.nn.CrossEntropyLoss()\n",
        "    true_predictions = 0\n",
        "    false_predictions = 0\n",
        "    for images, labels in dl:\n",
        "        images, labels = images.cuda(), labels.cuda()\n",
        "        with torch.no_grad():\n",
        "            logits = model(images)\n",
        "            loss = loss_fn(logits, labels)\n",
        "        class_predictions = torch.argmax(logits, axis=-1)\n",
        "        true_predictions_batch  = torch.sum(class_predictions == labels)\n",
        "        false_predictions_batch = torch.sum(class_predictions != labels)\n",
        "        true_predictions  += true_predictions_batch.item()\n",
        "        false_predictions += false_predictions_batch.item()\n",
        "    \n",
        "    accuracy = true_predictions / (true_predictions + false_predictions)\n",
        "    return loss, accuracy\n",
        "\n",
        "def train(model, optimizer, train_dl, val_dl, n_epoch=1, every_n_batch=0, early_stop_after=3, early_stop_tolerance=1e-3):\n",
        "    model.cuda()\n",
        "    loss_fn = torch.nn.CrossEntropyLoss()\n",
        "\n",
        "    train_loss_list = [] \n",
        "    val_loss_list = []\n",
        "\n",
        "    early_stop_counter = 0\n",
        "    lowest_loss = float('inf')\n",
        "    i = 0\n",
        "    while early_stop_counter < early_stop_after and i < n_epoch:\n",
        "        i += 1\n",
        "        print('-'*32)\n",
        "        print(f'epoch {i}')\n",
        "        print('-'*32)\n",
        "        model.train()\n",
        "        for j, (train_images, train_labels) in enumerate(train_dl):\n",
        "            if every_n_batch and j and j % every_n_batch == 0:\n",
        "                batch_ds = TensorDataset(torch.unsqueeze(train_images, dim=0), torch.unsqueeze(train_labels, dim=0))\n",
        "                batch_score = evaluate(model, batch_ds)\n",
        "                print(f'batch {j} - accuracy: {batch_score:.4f}')\n",
        "            train_images, train_labels = train_images.cuda(), train_labels.cuda()\n",
        "            class_scores = model(train_images)\n",
        "            loss = loss_fn(class_scores, train_labels)\n",
        "            optimizer.zero_grad()\n",
        "            loss.backward()\n",
        "            optimizer.step()\n",
        "            train_loss_list.append(loss.item())\n",
        "        \n",
        "        train_loss, train_score = evaluate(model, train_dl)\n",
        "        val_loss, val_score = evaluate(model, val_dl)\n",
        "        if len(val_loss_list) and (lowest_loss - val_loss) < early_stop_tolerance:\n",
        "            early_stop_counter += 1\n",
        "        else:\n",
        "            early_stop_counter = 0\n",
        "        val_loss_list.append(val_loss)\n",
        "        lowest_loss = min(val_loss, lowest_loss)\n",
        "\n",
        "        print(f'train loss: {train_loss:.8f} | validation loss: {val_loss:.8f}')\n",
        "        print(f'train accuracy: {train_score:.4f} | validation accuracy: {val_score:.4f}')\n",
        "        print('-'*32)\n",
        "\n",
        "    if early_stop_counter >= early_stop_after:\n",
        "        print(\"EARLY STOPPED!\")\n",
        "    \n",
        "    return model, train_loss_list, val_loss_list, val_score\n",
        "\n",
        "def run_experiment(model, lr, bs, optim_cls, **kwargs):\n",
        "    optimizer = optim_cls(model.parameters(), lr=lr)\n",
        "    train_dl, val_dl = make_dataloaders(bs)\n",
        "    model, train_losses, val_losses, val_score = train(model, optimizer, train_dl, val_dl,  **kwargs)\n",
        "    return model, train_losses, val_losses, val_score"
      ],
      "execution_count": 152,
      "outputs": []
    },
    {
      "cell_type": "code",
      "metadata": {
        "id": "8jltZmHNwhKu"
      },
      "source": [
        "import itertools\n",
        "\n",
        "def run_all_experiments(model_fns, lr_space, bs_space, optimizer_space, **kwargs):\n",
        "    experiment_results = []\n",
        "    for i, (model_fn, lr, bs, optim_cls) in enumerate(itertools.product(model_fns, lr_space, bs_space, optimizer_space)):\n",
        "        print(\"==========================================\")\n",
        "        print(f\"Experiment {i+1}\")\n",
        "        print(\"==========================================\")\n",
        "        print(f\"model {i}\")\n",
        "        print(f\"learning rate = {lr}\")\n",
        "        print(f\"batch size = {bs}\")\n",
        "        print(f\"optimizer = {optim_cls.__name__}\")\n",
        "        model, train_loss_list, val_loss_list, val_score = run_experiment(model_fn(), lr, bs, optim_cls, **kwargs)\n",
        "        experiment_results.append(\n",
        "            (dict(model_idx=i,lr=lr,bs=bs,optim_cls=optim_cls), \n",
        "             dict(model=model, train_loss_list=train_loss_list, val_loss_list=val_loss_list, score=val_score))\n",
        "        )\n",
        "        print(\"==========================================\")\n",
        "    \n",
        "    return experiment_results"
      ],
      "execution_count": 153,
      "outputs": []
    },
    {
      "cell_type": "markdown",
      "metadata": {
        "id": "SfQo8bMcwiNe"
      },
      "source": [
        "### Experiments"
      ]
    },
    {
      "cell_type": "code",
      "metadata": {
        "id": "aI6rnPUV0hcR"
      },
      "source": [
        "# Helper for plotting the loss graph smoothly. \n",
        "def smoothen_losses(loss_list):\n",
        "    filter_size = 10\n",
        "    moving_average_filter = [1/filter_size] * filter_size\n",
        "    return np.convolve(loss_list, moving_average_filter, 'valid') \n",
        "\n",
        "def plot_loss_graph(train_losses, val_losses):\n",
        "    train_losse = smoothen_losses(train_losses)\n",
        "\n",
        "    fig = plt.figure(figsize=(12, 8))\n",
        "    plt.plot(train_losses, label='train')\n",
        "    n_iter = len(train_losses)\n",
        "    n_epoch = len(val_losses)\n",
        "    x = (np.arange(n_epoch) * n_iter / n_epoch).astype('int')\n",
        "    plt.plot(x, val_losses, label='validation')\n",
        "\n",
        "    plt.xlabel('iterations')\n",
        "    plt.ylabel('loss')\n",
        "    plt.legend()\n",
        "    return fig    \n"
      ],
      "execution_count": 154,
      "outputs": []
    },
    {
      "cell_type": "code",
      "metadata": {
        "colab": {
          "base_uri": "https://localhost:8080/"
        },
        "id": "_LyiM2umvA3C",
        "outputId": "04ca2bad-e5dd-4590-c09e-e8494a33561e"
      },
      "source": [
        "experiment_results = run_all_experiments(\n",
        "    model_fns = [Net, lambda : ResNet(ResidualBlock, [2, 2, 2])],\n",
        "    lr_space = [1e-4],\n",
        "    bs_space=[64], \n",
        "    optimizer_space = [torch.optim.Adam],\n",
        "    n_epoch=50,\n",
        ")\n"
      ],
      "execution_count": 156,
      "outputs": [
        {
          "output_type": "stream",
          "name": "stdout",
          "text": [
            "==========================================\n",
            "Experiment 1\n",
            "==========================================\n",
            "model 0\n",
            "learning rate = 0.0001\n",
            "batch size = 64\n",
            "optimizer = Adam\n",
            "--------------------------------\n",
            "epoch 1\n",
            "--------------------------------\n",
            "train loss: 1.46885026 | validation loss: 1.46944451\n",
            "train accuracy: 0.3469 | validation accuracy: 0.3404\n",
            "--------------------------------\n",
            "--------------------------------\n",
            "epoch 2\n",
            "--------------------------------\n",
            "train loss: 1.07124746 | validation loss: 1.26115370\n",
            "train accuracy: 0.4080 | validation accuracy: 0.4116\n",
            "--------------------------------\n",
            "--------------------------------\n",
            "epoch 3\n",
            "--------------------------------\n",
            "train loss: 0.93469167 | validation loss: 1.23524284\n",
            "train accuracy: 0.4385 | validation accuracy: 0.4350\n",
            "--------------------------------\n",
            "--------------------------------\n",
            "epoch 4\n",
            "--------------------------------\n",
            "train loss: 0.87293035 | validation loss: 1.21524858\n",
            "train accuracy: 0.4580 | validation accuracy: 0.4476\n",
            "--------------------------------\n",
            "--------------------------------\n",
            "epoch 5\n",
            "--------------------------------\n",
            "train loss: 0.82417858 | validation loss: 1.19953573\n",
            "train accuracy: 0.4750 | validation accuracy: 0.4650\n",
            "--------------------------------\n",
            "--------------------------------\n",
            "epoch 6\n",
            "--------------------------------\n",
            "train loss: 0.78265059 | validation loss: 1.19075155\n",
            "train accuracy: 0.4899 | validation accuracy: 0.4806\n",
            "--------------------------------\n",
            "--------------------------------\n",
            "epoch 7\n",
            "--------------------------------\n",
            "train loss: 0.74058741 | validation loss: 1.18500090\n",
            "train accuracy: 0.5017 | validation accuracy: 0.4916\n",
            "--------------------------------\n",
            "--------------------------------\n",
            "epoch 8\n",
            "--------------------------------\n",
            "train loss: 0.69860476 | validation loss: 1.17697084\n",
            "train accuracy: 0.5119 | validation accuracy: 0.4986\n",
            "--------------------------------\n",
            "--------------------------------\n",
            "epoch 9\n",
            "--------------------------------\n",
            "train loss: 0.66161036 | validation loss: 1.16550326\n",
            "train accuracy: 0.5220 | validation accuracy: 0.5058\n",
            "--------------------------------\n",
            "--------------------------------\n",
            "epoch 10\n",
            "--------------------------------\n",
            "train loss: 0.62749797 | validation loss: 1.15268564\n",
            "train accuracy: 0.5301 | validation accuracy: 0.5106\n",
            "--------------------------------\n",
            "--------------------------------\n",
            "epoch 11\n",
            "--------------------------------\n",
            "train loss: 0.59248680 | validation loss: 1.14007139\n",
            "train accuracy: 0.5387 | validation accuracy: 0.5156\n",
            "--------------------------------\n",
            "--------------------------------\n",
            "epoch 12\n",
            "--------------------------------\n",
            "train loss: 0.56073844 | validation loss: 1.12629974\n",
            "train accuracy: 0.5454 | validation accuracy: 0.5202\n",
            "--------------------------------\n",
            "--------------------------------\n",
            "epoch 13\n",
            "--------------------------------\n",
            "train loss: 0.53065699 | validation loss: 1.11363435\n",
            "train accuracy: 0.5528 | validation accuracy: 0.5300\n",
            "--------------------------------\n",
            "--------------------------------\n",
            "epoch 14\n",
            "--------------------------------\n",
            "train loss: 0.50410300 | validation loss: 1.09799635\n",
            "train accuracy: 0.5587 | validation accuracy: 0.5332\n",
            "--------------------------------\n",
            "--------------------------------\n",
            "epoch 15\n",
            "--------------------------------\n",
            "train loss: 0.48157367 | validation loss: 1.08538342\n",
            "train accuracy: 0.5635 | validation accuracy: 0.5380\n",
            "--------------------------------\n",
            "--------------------------------\n",
            "epoch 16\n",
            "--------------------------------\n",
            "train loss: 0.46119845 | validation loss: 1.07592261\n",
            "train accuracy: 0.5688 | validation accuracy: 0.5452\n",
            "--------------------------------\n",
            "--------------------------------\n",
            "epoch 17\n",
            "--------------------------------\n",
            "train loss: 0.44431677 | validation loss: 1.06875384\n",
            "train accuracy: 0.5743 | validation accuracy: 0.5500\n",
            "--------------------------------\n",
            "--------------------------------\n",
            "epoch 18\n",
            "--------------------------------\n",
            "train loss: 0.43057415 | validation loss: 1.06415188\n",
            "train accuracy: 0.5785 | validation accuracy: 0.5536\n",
            "--------------------------------\n",
            "--------------------------------\n",
            "epoch 19\n",
            "--------------------------------\n",
            "train loss: 0.41850078 | validation loss: 1.06145346\n",
            "train accuracy: 0.5832 | validation accuracy: 0.5570\n",
            "--------------------------------\n",
            "--------------------------------\n",
            "epoch 20\n",
            "--------------------------------\n",
            "train loss: 0.40887791 | validation loss: 1.06043768\n",
            "train accuracy: 0.5870 | validation accuracy: 0.5588\n",
            "--------------------------------\n",
            "--------------------------------\n",
            "epoch 21\n",
            "--------------------------------\n",
            "train loss: 0.40101078 | validation loss: 1.06009650\n",
            "train accuracy: 0.5909 | validation accuracy: 0.5632\n",
            "--------------------------------\n",
            "--------------------------------\n",
            "epoch 22\n",
            "--------------------------------\n",
            "train loss: 0.39372417 | validation loss: 1.05985868\n",
            "train accuracy: 0.5945 | validation accuracy: 0.5676\n",
            "--------------------------------\n",
            "--------------------------------\n",
            "epoch 23\n",
            "--------------------------------\n",
            "train loss: 0.38764670 | validation loss: 1.06177771\n",
            "train accuracy: 0.5985 | validation accuracy: 0.5714\n",
            "--------------------------------\n",
            "EARLY STOPPED!\n",
            "==========================================\n",
            "==========================================\n",
            "Experiment 2\n",
            "==========================================\n",
            "model 1\n",
            "learning rate = 0.0001\n",
            "batch size = 64\n",
            "optimizer = Adam\n",
            "--------------------------------\n",
            "epoch 1\n",
            "--------------------------------\n",
            "train loss: 1.02114725 | validation loss: 1.58504021\n",
            "train accuracy: 0.4839 | validation accuracy: 0.4746\n",
            "--------------------------------\n",
            "--------------------------------\n",
            "epoch 2\n",
            "--------------------------------\n",
            "train loss: 0.84767914 | validation loss: 1.10878587\n",
            "train accuracy: 0.5796 | validation accuracy: 0.5660\n",
            "--------------------------------\n",
            "--------------------------------\n",
            "epoch 3\n",
            "--------------------------------\n",
            "train loss: 0.67375988 | validation loss: 0.77655733\n",
            "train accuracy: 0.6308 | validation accuracy: 0.6140\n",
            "--------------------------------\n",
            "--------------------------------\n",
            "epoch 4\n",
            "--------------------------------\n",
            "train loss: 0.58319527 | validation loss: 0.63737565\n",
            "train accuracy: 0.6675 | validation accuracy: 0.6464\n",
            "--------------------------------\n",
            "--------------------------------\n",
            "epoch 5\n",
            "--------------------------------\n",
            "train loss: 0.47891277 | validation loss: 0.58527839\n",
            "train accuracy: 0.6921 | validation accuracy: 0.6618\n",
            "--------------------------------\n",
            "--------------------------------\n",
            "epoch 6\n",
            "--------------------------------\n",
            "train loss: 0.40649340 | validation loss: 0.53630030\n",
            "train accuracy: 0.7132 | validation accuracy: 0.6708\n",
            "--------------------------------\n",
            "--------------------------------\n",
            "epoch 7\n",
            "--------------------------------\n",
            "train loss: 0.36480704 | validation loss: 0.52937478\n",
            "train accuracy: 0.7358 | validation accuracy: 0.6824\n",
            "--------------------------------\n",
            "--------------------------------\n",
            "epoch 8\n",
            "--------------------------------\n",
            "train loss: 0.30755436 | validation loss: 0.46349028\n",
            "train accuracy: 0.7529 | validation accuracy: 0.6876\n",
            "--------------------------------\n",
            "--------------------------------\n",
            "epoch 9\n",
            "--------------------------------\n",
            "train loss: 0.24535044 | validation loss: 0.45414737\n",
            "train accuracy: 0.7624 | validation accuracy: 0.6888\n",
            "--------------------------------\n",
            "--------------------------------\n",
            "epoch 10\n",
            "--------------------------------\n",
            "train loss: 0.20459491 | validation loss: 0.40667942\n",
            "train accuracy: 0.7741 | validation accuracy: 0.6890\n",
            "--------------------------------\n",
            "--------------------------------\n",
            "epoch 11\n",
            "--------------------------------\n",
            "train loss: 0.17498520 | validation loss: 0.37331042\n",
            "train accuracy: 0.7836 | validation accuracy: 0.6946\n",
            "--------------------------------\n",
            "--------------------------------\n",
            "epoch 12\n",
            "--------------------------------\n",
            "train loss: 0.14704996 | validation loss: 0.36372030\n",
            "train accuracy: 0.7931 | validation accuracy: 0.6960\n",
            "--------------------------------\n",
            "--------------------------------\n",
            "epoch 13\n",
            "--------------------------------\n",
            "train loss: 0.15219155 | validation loss: 0.39003330\n",
            "train accuracy: 0.8025 | validation accuracy: 0.6948\n",
            "--------------------------------\n",
            "--------------------------------\n",
            "epoch 14\n",
            "--------------------------------\n",
            "train loss: 0.14771375 | validation loss: 0.34691495\n",
            "train accuracy: 0.8086 | validation accuracy: 0.6926\n",
            "--------------------------------\n",
            "--------------------------------\n",
            "epoch 15\n",
            "--------------------------------\n",
            "train loss: 0.11304558 | validation loss: 0.36447853\n",
            "train accuracy: 0.8198 | validation accuracy: 0.6926\n",
            "--------------------------------\n",
            "--------------------------------\n",
            "epoch 16\n",
            "--------------------------------\n",
            "train loss: 0.09079786 | validation loss: 0.36153877\n",
            "train accuracy: 0.8279 | validation accuracy: 0.6886\n",
            "--------------------------------\n",
            "--------------------------------\n",
            "epoch 17\n",
            "--------------------------------\n",
            "train loss: 0.07969544 | validation loss: 0.37557295\n",
            "train accuracy: 0.8313 | validation accuracy: 0.6840\n",
            "--------------------------------\n",
            "EARLY STOPPED!\n",
            "==========================================\n"
          ]
        }
      ]
    },
    {
      "cell_type": "code",
      "source": [
        "def make_label(model_idx, lr, bs, optim_cls):\n",
        "    return f\"model={model_idx},lr={lr},bs={bs},optim={optim_cls.__name__}\"\n",
        "\n",
        "for inp, output in experiment_results:\n",
        "    fig = plot_loss_graph(\n",
        "        output['train_loss_list'], \n",
        "        output['val_loss_list']\n",
        "    )\n",
        "    plt.title(make_label(**inp))"
      ],
      "metadata": {
        "colab": {
          "base_uri": "https://localhost:8080/",
          "height": 1000
        },
        "id": "utx7lmG-oM2n",
        "outputId": "64b906a8-e097-4fa2-ed83-f6095cb6c72d"
      },
      "execution_count": 159,
      "outputs": [
        {
          "output_type": "display_data",
          "data": {
            "image/png": "[encoded data removed]",
            "text/plain": [
              "<Figure size 864x576 with 1 Axes>"
            ]
          },
          "metadata": {
            "needs_background": "light"
          }
        },
        {
          "output_type": "display_data",
          "data": {
            "image/png": "[encoded data removed]",
            "text/plain": [
              "<Figure size 864x576 with 1 Axes>"
            ]
          },
          "metadata": {
            "needs_background": "light"
          }
        }
      ]
    },
    {
      "cell_type": "markdown",
      "source": [
        "## Evaluation"
      ],
      "metadata": {
        "id": "g31ELjAWkCmZ"
      }
    },
    {
      "cell_type": "code",
      "source": [
        "train_dl, val_dl = make_dataloaders(128)\n",
        "test_dl = DataLoader(test_ds, batch_size=128, shuffle=False, num_workers=2)\n",
        "\n",
        "def report_scores(model):\n",
        "    train_loss, train_score = evaluate(model, train_dl)\n",
        "    print(f'train accuracy: {train_score:.3f}')\n",
        "\n",
        "    val_loss, val_score = evaluate(model, val_dl)\n",
        "    print(f'validation accuracy: {val_score:.3f}')\n",
        "\n",
        "    test_loss, test_score = evaluate(model, test_dl)\n",
        "    print(f'test accuracy: {test_score:.3f}')\n"
      ],
      "metadata": {
        "id": "Xir27fiVqfd4"
      },
      "execution_count": 165,
      "outputs": []
    },
    {
      "cell_type": "markdown",
      "source": [
        "Let's evaluate the performance of our simple CNN model and ResNet."
      ],
      "metadata": {
        "id": "6H-FHjTi0dfU"
      }
    },
    {
      "cell_type": "code",
      "source": [
        "simple_cnn = experiment_results[0][1]['model']\n",
        "print(\"Our simple CNN\")\n",
        "print(\"=\"*32)\n",
        "report_scores(simple_cnn)"
      ],
      "metadata": {
        "colab": {
          "base_uri": "https://localhost:8080/"
        },
        "id": "ieZwqZACtBI1",
        "outputId": "25c839ba-34fa-47e8-a619-b45292c04423"
      },
      "execution_count": 166,
      "outputs": [
        {
          "output_type": "stream",
          "name": "stdout",
          "text": [
            "Our simple CNN\n",
            "================================\n",
            "train accuracy: 0.599\n",
            "validation accuracy: 0.571\n",
            "test accuracy: 0.570\n"
          ]
        }
      ]
    },
    {
      "cell_type": "code",
      "source": [
        "best_experiment = max(experiment_results, key=lambda res: res[1]['score'])\n",
        "best_model = best_experiment[1]['model']\n",
        "print(\"ResNet\")\n",
        "print(\"=\"*32)\n",
        "report_scores(best_model)"
      ],
      "metadata": {
        "colab": {
          "base_uri": "https://localhost:8080/"
        },
        "id": "sfflYMC80Ur5",
        "outputId": "7019d40e-eb3f-409b-97bb-4f7ec8c920a3"
      },
      "execution_count": 167,
      "outputs": [
        {
          "output_type": "stream",
          "name": "stdout",
          "text": [
            "ResNet\n",
            "================================\n",
            "train accuracy: 0.831\n",
            "validation accuracy: 0.684\n",
            "test accuracy: 0.681\n"
          ]
        }
      ]
    },
    {
      "cell_type": "markdown",
      "source": [
        "## Save & Load"
      ],
      "metadata": {
        "id": "8f97aprUqpOP"
      }
    },
    {
      "cell_type": "markdown",
      "source": [
        "Let's save our model, load it back and evaluate its performance."
      ],
      "metadata": {
        "id": "wkLXK1Fqd_gp"
      }
    },
    {
      "cell_type": "code",
      "source": [
        "torch.save(simple_cnn, 'model.pth')\n",
        "loaded_model = torch.load('model.pth')\n",
        "print(\"Loaded CNN\")\n",
        "print(\"=\"*32)\n",
        "report_scores(loaded_model)"
      ],
      "metadata": {
        "colab": {
          "base_uri": "https://localhost:8080/"
        },
        "id": "CdAdIEivSsFp",
        "outputId": "1a9d46a0-fd21-482f-9baf-c9245ccea93b"
      },
      "execution_count": 170,
      "outputs": [
        {
          "output_type": "stream",
          "name": "stdout",
          "text": [
            "Loaded CNN\n",
            "================================\n",
            "train accuracy: 0.599\n",
            "validation accuracy: 0.571\n",
            "test accuracy: 0.570\n"
          ]
        }
      ]
    },
    {
      "cell_type": "code",
      "source": [
        ""
      ],
      "metadata": {
        "id": "uK8sS6mIq3py"
      },
      "execution_count": null,
      "outputs": []
    }
  ]
}
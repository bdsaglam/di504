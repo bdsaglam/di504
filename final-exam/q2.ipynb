{
 "cells": [
  {
   "cell_type": "code",
   "execution_count": 5,
   "metadata": {},
   "outputs": [
    {
     "name": "stdout",
     "output_type": "stream",
     "text": [
      "xt: tensor([ 1.8200, -0.2100])\n",
      "ht: tensor([ 0.3600, -1.4500,  0.2300])\n",
      "rt: tensor([0.6479, 0.4013, 0.6479])\n",
      "zt: tensor([0.9804, 0.9804, 0.9804])\n",
      "(1 - zt): tensor([0.0196, 0.0196, 0.0196])\n",
      "hhat: tensor([ 0.2333, -0.5819,  0.1490])\n",
      "hbar: tensor([0.9479, 0.3799, 0.9479])\n",
      "hnew: tensor([0.9363, 0.3440, 0.9338])\n"
     ]
    }
   ],
   "source": [
    "import torch \n",
    "def parse_weights(s):\n",
    "    return [[float(i) for i in row] for row in s.split(',')]\n",
    "\n",
    "Wr = torch.tensor(parse_weights(\"11000,10011,11000\"))\n",
    "br = torch.tensor(-1.0)\n",
    "Wu = torch.tensor(parse_weights(\"10101,10101,10101\"))\n",
    "bu = torch.tensor(1.5)\n",
    "Wt = torch.tensor(parse_weights(\"11111,00000,11111\"))\n",
    "bt = torch.tensor(0.4)\n",
    "x = torch.tensor([+1.82, -0.21]).T\n",
    "h = torch.tensor([+0.36,-1.45,+0.23]).T\n",
    "rt = torch.sigmoid(Wr @ torch.cat([x,h]) + br)\n",
    "zt = torch.sigmoid(Wu @ torch.cat([x,h]) + bu)\n",
    "hhat = rt * h\n",
    "hbar = torch.tanh(Wt @ torch.cat([x, hhat]) + bt)\n",
    "hnew = (1 - zt) * h + zt * hbar\n",
    "\n",
    "\n",
    "print(\"xt:\",x)\n",
    "print(\"ht:\", h)\n",
    "print(\"rt:\", rt)\n",
    "print(\"zt:\", zt)\n",
    "print(\"(1 - zt):\", 1 - zt)\n",
    "print(\"hhat:\", hhat)\n",
    "print(\"hbar:\", hbar)\n",
    "print(\"hnew:\", hnew)"
   ]
  },
  {
   "cell_type": "code",
   "execution_count": null,
   "metadata": {},
   "outputs": [],
   "source": []
  }
 ],
 "metadata": {
  "interpreter": {
   "hash": "e5bb554d05a99fcb469aefbbe8b3d465e2ced1619fb27441e07734f447fb6dcf"
  },
  "kernelspec": {
   "display_name": "Python 3.9.7 64-bit ('di504': conda)",
   "language": "python",
   "name": "python3"
  },
  "language_info": {
   "codemirror_mode": {
    "name": "ipython",
    "version": 3
   },
   "file_extension": ".py",
   "mimetype": "text/x-python",
   "name": "python",
   "nbconvert_exporter": "python",
   "pygments_lexer": "ipython3",
   "version": "3.9.7"
  },
  "orig_nbformat": 4
 },
 "nbformat": 4,
 "nbformat_minor": 2
}

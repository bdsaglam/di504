{
 "cells": [
  {
   "cell_type": "code",
   "execution_count": 1,
   "metadata": {},
   "outputs": [],
   "source": [
    "import numpy as np\n",
    "import pandas as pd\n",
    "\n",
    "import torch\n",
    "import torch.nn as nn\n",
    "import torch.nn.functional as F\n",
    "\n",
    "from torchsummary import summary\n",
    "\n",
    "import matplotlib.pyplot as plt\n",
    "\n"
   ]
  },
  {
   "cell_type": "code",
   "execution_count": 1,
   "metadata": {},
   "outputs": [],
   "source": [
    "import torch\n",
    "\n",
    "Wr = torch.tensor([-1.4, 1.2])\n",
    "Ur = torch.tensor([-0.6,+0.2,+0.1])\n",
    "br = torch.tensor(-1.0)\n",
    "\n",
    "Wu = torch.tensor([0.2, -0.4])\n",
    "Uu = torch.tensor([+0.1,-0.1,+0.3])\n",
    "bu = torch.tensor(1.5)\n",
    "\n",
    "Wt = torch.tensor([-0.1, 0.1])\n",
    "Ut = torch.tensor([+0.1,-0.2,+0.3])\n",
    "bt = torch.tensor(0.4)\n",
    "\n",
    "x = torch.tensor([+1.82, -0.21]).T\n",
    "h = torch.tensor([+0.36,-1.45,+0.23]).T\n",
    "\n",
    "rt = torch.sigmoid(Wr @ x + Ur @ h + br)\n",
    "zt = torch.sigmoid(Wu @ x + Uu @ h + bu)\n",
    "\n",
    "hbar = torch.tanh(Wt @ x + Ut @ (rt * h) + bt)\n",
    "hhat = (1 - zt) * h\n",
    "hn = hhat + zt * hbar"
   ]
  },
  {
   "cell_type": "code",
   "execution_count": 18,
   "metadata": {},
   "outputs": [
    {
     "name": "stdout",
     "output_type": "stream",
     "text": [
      "xt tensor([ 1.8200, -0.2100])\n",
      "ht tensor([ 0.3600, -1.4500,  0.2300])\n",
      "rt tensor(0.0136)\n",
      "zt tensor(0.9001)\n",
      "1 - zt tensor(0.0999)\n",
      "hb tensor(0.1997)\n",
      "hh tensor([ 0.0360, -0.1449,  0.0230])\n",
      "zt*hb tensor(0.1797)\n",
      "hn tensor([0.2157, 0.0348, 0.2027])\n"
     ]
    }
   ],
   "source": [
    "print(\"xt\",x)\n",
    "print(\"ht\", h)\n",
    "print(\"rt\", rt)\n",
    "print(\"zt\", zt)\n",
    "print(\"1 - zt\", 1 - zt)\n",
    "print(\"hb\", hb)\n",
    "print(\"hh\", hh)\n",
    "print(\"zt*hb\", zt*hb)\n",
    "print(\"hn\", hn)"
   ]
  },
  {
   "cell_type": "code",
   "execution_count": null,
   "metadata": {},
   "outputs": [],
   "source": []
  }
 ],
 "metadata": {
  "interpreter": {
   "hash": "e5bb554d05a99fcb469aefbbe8b3d465e2ced1619fb27441e07734f447fb6dcf"
  },
  "kernelspec": {
   "display_name": "Python 3.9.7 64-bit ('di504': conda)",
   "language": "python",
   "name": "python3"
  },
  "language_info": {
   "codemirror_mode": {
    "name": "ipython",
    "version": 3
   },
   "file_extension": ".py",
   "mimetype": "text/x-python",
   "name": "python",
   "nbconvert_exporter": "python",
   "pygments_lexer": "ipython3",
   "version": "3.9.7"
  },
  "orig_nbformat": 4
 },
 "nbformat": 4,
 "nbformat_minor": 2
}

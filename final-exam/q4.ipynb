{
 "cells": [
  {
   "cell_type": "code",
   "execution_count": 1,
   "metadata": {},
   "outputs": [],
   "source": [
    "import numpy as np\n",
    "import pandas as pd\n",
    "\n",
    "import torch\n",
    "import torch.nn as nn\n",
    "import torch.nn.functional as F\n",
    "\n",
    "import matplotlib.pyplot as plt"
   ]
  },
  {
   "cell_type": "code",
   "execution_count": 5,
   "metadata": {},
   "outputs": [],
   "source": [
    "vocab = [\"Apple\", \"Mango\", \"Pear\", \"Tomato\", \"Potato\"]"
   ]
  },
  {
   "cell_type": "code",
   "execution_count": 4,
   "metadata": {},
   "outputs": [
    {
     "data": {
      "text/plain": [
       "array([[-0.81, -0.13, -0.63,  0.38,  0.92],\n",
       "       [-0.91, -0.43, -0.83,  0.54,  0.67]])"
      ]
     },
     "execution_count": 4,
     "metadata": {},
     "output_type": "execute_result"
    }
   ],
   "source": [
    "W = np.array([[-0.81,-0.13,-0.63,+0.38,+0.92], [-0.91,-0.43,-0.83,+0.54,+0.67]])\n",
    "W"
   ]
  },
  {
   "cell_type": "code",
   "execution_count": 26,
   "metadata": {},
   "outputs": [
    {
     "data": {
      "text/plain": [
       "(-1.0, 1.0)"
      ]
     },
     "execution_count": 26,
     "metadata": {},
     "output_type": "execute_result"
    },
    {
     "data": {
      "image/png": "[encoded data removed]",
      "text/plain": [
       "<Figure size 432x288 with 1 Axes>"
      ]
     },
     "metadata": {
      "needs_background": "light"
     },
     "output_type": "display_data"
    }
   ],
   "source": [
    "plt.figure()\n",
    "plt.scatter(W[0,:], W[1,:], s=50, c='r')\n",
    "for i, word in enumerate(vocab):\n",
    "    x,y = W[0,i], W[1,i]\n",
    "    plt.text(x-0.15, y+0.05, word)\n",
    "plt.xlim(-1, 1)\n",
    "plt.ylim(-1, 1)"
   ]
  },
  {
   "cell_type": "code",
   "execution_count": 20,
   "metadata": {},
   "outputs": [
    {
     "name": "stdout",
     "output_type": "stream",
     "text": [
      "\u001b[0;31mSignature:\u001b[0m\n",
      "\u001b[0mplt\u001b[0m\u001b[0;34m.\u001b[0m\u001b[0mscatter\u001b[0m\u001b[0;34m(\u001b[0m\u001b[0;34m\u001b[0m\n",
      "\u001b[0;34m\u001b[0m    \u001b[0mx\u001b[0m\u001b[0;34m,\u001b[0m\u001b[0;34m\u001b[0m\n",
      "\u001b[0;34m\u001b[0m    \u001b[0my\u001b[0m\u001b[0;34m,\u001b[0m\u001b[0;34m\u001b[0m\n",
      "\u001b[0;34m\u001b[0m    \u001b[0ms\u001b[0m\u001b[0;34m=\u001b[0m\u001b[0;32mNone\u001b[0m\u001b[0;34m,\u001b[0m\u001b[0;34m\u001b[0m\n",
      "\u001b[0;34m\u001b[0m    \u001b[0mc\u001b[0m\u001b[0;34m=\u001b[0m\u001b[0;32mNone\u001b[0m\u001b[0;34m,\u001b[0m\u001b[0;34m\u001b[0m\n",
      "\u001b[0;34m\u001b[0m    \u001b[0mmarker\u001b[0m\u001b[0;34m=\u001b[0m\u001b[0;32mNone\u001b[0m\u001b[0;34m,\u001b[0m\u001b[0;34m\u001b[0m\n",
      "\u001b[0;34m\u001b[0m    \u001b[0mcmap\u001b[0m\u001b[0;34m=\u001b[0m\u001b[0;32mNone\u001b[0m\u001b[0;34m,\u001b[0m\u001b[0;34m\u001b[0m\n",
      "\u001b[0;34m\u001b[0m    \u001b[0mnorm\u001b[0m\u001b[0;34m=\u001b[0m\u001b[0;32mNone\u001b[0m\u001b[0;34m,\u001b[0m\u001b[0;34m\u001b[0m\n",
      "\u001b[0;34m\u001b[0m    \u001b[0mvmin\u001b[0m\u001b[0;34m=\u001b[0m\u001b[0;32mNone\u001b[0m\u001b[0;34m,\u001b[0m\u001b[0;34m\u001b[0m\n",
      "\u001b[0;34m\u001b[0m    \u001b[0mvmax\u001b[0m\u001b[0;34m=\u001b[0m\u001b[0;32mNone\u001b[0m\u001b[0;34m,\u001b[0m\u001b[0;34m\u001b[0m\n",
      "\u001b[0;34m\u001b[0m    \u001b[0malpha\u001b[0m\u001b[0;34m=\u001b[0m\u001b[0;32mNone\u001b[0m\u001b[0;34m,\u001b[0m\u001b[0;34m\u001b[0m\n",
      "\u001b[0;34m\u001b[0m    \u001b[0mlinewidths\u001b[0m\u001b[0;34m=\u001b[0m\u001b[0;32mNone\u001b[0m\u001b[0;34m,\u001b[0m\u001b[0;34m\u001b[0m\n",
      "\u001b[0;34m\u001b[0m    \u001b[0;34m*\u001b[0m\u001b[0;34m,\u001b[0m\u001b[0;34m\u001b[0m\n",
      "\u001b[0;34m\u001b[0m    \u001b[0medgecolors\u001b[0m\u001b[0;34m=\u001b[0m\u001b[0;32mNone\u001b[0m\u001b[0;34m,\u001b[0m\u001b[0;34m\u001b[0m\n",
      "\u001b[0;34m\u001b[0m    \u001b[0mplotnonfinite\u001b[0m\u001b[0;34m=\u001b[0m\u001b[0;32mFalse\u001b[0m\u001b[0;34m,\u001b[0m\u001b[0;34m\u001b[0m\n",
      "\u001b[0;34m\u001b[0m    \u001b[0mdata\u001b[0m\u001b[0;34m=\u001b[0m\u001b[0;32mNone\u001b[0m\u001b[0;34m,\u001b[0m\u001b[0;34m\u001b[0m\n",
      "\u001b[0;34m\u001b[0m    \u001b[0;34m**\u001b[0m\u001b[0mkwargs\u001b[0m\u001b[0;34m,\u001b[0m\u001b[0;34m\u001b[0m\n",
      "\u001b[0;34m\u001b[0m\u001b[0;34m)\u001b[0m\u001b[0;34m\u001b[0m\u001b[0;34m\u001b[0m\u001b[0m\n",
      "\u001b[0;31mDocstring:\u001b[0m\n",
      "A scatter plot of *y* vs. *x* with varying marker size and/or color.\n",
      "\n",
      "Parameters\n",
      "----------\n",
      "x, y : float or array-like, shape (n, )\n",
      "    The data positions.\n",
      "\n",
      "s : float or array-like, shape (n, ), optional\n",
      "    The marker size in points**2.\n",
      "    Default is ``rcParams['lines.markersize'] ** 2``.\n",
      "\n",
      "c : array-like or list of colors or color, optional\n",
      "    The marker colors. Possible values:\n",
      "\n",
      "    - A scalar or sequence of n numbers to be mapped to colors using\n",
      "      *cmap* and *norm*.\n",
      "    - A 2D array in which the rows are RGB or RGBA.\n",
      "    - A sequence of colors of length n.\n",
      "    - A single color format string.\n",
      "\n",
      "    Note that *c* should not be a single numeric RGB or RGBA sequence\n",
      "    because that is indistinguishable from an array of values to be\n",
      "    colormapped. If you want to specify the same RGB or RGBA value for\n",
      "    all points, use a 2D array with a single row.  Otherwise, value-\n",
      "    matching will have precedence in case of a size matching with *x*\n",
      "    and *y*.\n",
      "\n",
      "    If you wish to specify a single color for all points\n",
      "    prefer the *color* keyword argument.\n",
      "\n",
      "    Defaults to `None`. In that case the marker color is determined\n",
      "    by the value of *color*, *facecolor* or *facecolors*. In case\n",
      "    those are not specified or `None`, the marker color is determined\n",
      "    by the next color of the ``Axes``' current \"shape and fill\" color\n",
      "    cycle. This cycle defaults to :rc:`axes.prop_cycle`.\n",
      "\n",
      "marker : `~.markers.MarkerStyle`, default: :rc:`scatter.marker`\n",
      "    The marker style. *marker* can be either an instance of the class\n",
      "    or the text shorthand for a particular marker.\n",
      "    See :mod:`matplotlib.markers` for more information about marker\n",
      "    styles.\n",
      "\n",
      "cmap : str or `~matplotlib.colors.Colormap`, default: :rc:`image.cmap`\n",
      "    A `.Colormap` instance or registered colormap name. *cmap* is only\n",
      "    used if *c* is an array of floats.\n",
      "\n",
      "norm : `~matplotlib.colors.Normalize`, default: None\n",
      "    If *c* is an array of floats, *norm* is used to scale the color\n",
      "    data, *c*, in the range 0 to 1, in order to map into the colormap\n",
      "    *cmap*.\n",
      "    If *None*, use the default `.colors.Normalize`.\n",
      "\n",
      "vmin, vmax : float, default: None\n",
      "    *vmin* and *vmax* are used in conjunction with the default norm to\n",
      "    map the color array *c* to the colormap *cmap*. If None, the\n",
      "    respective min and max of the color array is used.\n",
      "    It is an error to use *vmin*/*vmax* when *norm* is given.\n",
      "\n",
      "alpha : float, default: None\n",
      "    The alpha blending value, between 0 (transparent) and 1 (opaque).\n",
      "\n",
      "linewidths : float or array-like, default: :rc:`lines.linewidth`\n",
      "    The linewidth of the marker edges. Note: The default *edgecolors*\n",
      "    is 'face'. You may want to change this as well.\n",
      "\n",
      "edgecolors : {'face', 'none', *None*} or color or sequence of color, default: :rc:`scatter.edgecolors`\n",
      "    The edge color of the marker. Possible values:\n",
      "\n",
      "    - 'face': The edge color will always be the same as the face color.\n",
      "    - 'none': No patch boundary will be drawn.\n",
      "    - A color or sequence of colors.\n",
      "\n",
      "    For non-filled markers, *edgecolors* is ignored. Instead, the color\n",
      "    is determined like with 'face', i.e. from *c*, *colors*, or\n",
      "    *facecolors*.\n",
      "\n",
      "plotnonfinite : bool, default: False\n",
      "    Whether to plot points with nonfinite *c* (i.e. ``inf``, ``-inf``\n",
      "    or ``nan``). If ``True`` the points are drawn with the *bad*\n",
      "    colormap color (see `.Colormap.set_bad`).\n",
      "\n",
      "Returns\n",
      "-------\n",
      "`~matplotlib.collections.PathCollection`\n",
      "\n",
      "Other Parameters\n",
      "----------------\n",
      "data : indexable object, optional\n",
      "    If given, the following parameters also accept a string ``s``, which is\n",
      "    interpreted as ``data[s]`` (unless this raises an exception):\n",
      "\n",
      "    *x*, *y*, *s*, *linewidths*, *edgecolors*, *c*, *facecolor*, *facecolors*, *color*\n",
      "**kwargs : `~matplotlib.collections.Collection` properties\n",
      "\n",
      "See Also\n",
      "--------\n",
      "plot : To plot scatter plots when markers are identical in size and\n",
      "    color.\n",
      "\n",
      "Notes\n",
      "-----\n",
      "* The `.plot` function will be faster for scatterplots where markers\n",
      "  don't vary in size or color.\n",
      "\n",
      "* Any or all of *x*, *y*, *s*, and *c* may be masked arrays, in which\n",
      "  case all masks will be combined and only unmasked points will be\n",
      "  plotted.\n",
      "\n",
      "* Fundamentally, scatter works with 1D arrays; *x*, *y*, *s*, and *c*\n",
      "  may be input as N-D arrays, but within scatter they will be\n",
      "  flattened. The exception is *c*, which will be flattened only if its\n",
      "  size matches the size of *x* and *y*.\n",
      "\u001b[0;31mFile:\u001b[0m      ~/miniconda3/envs/di504/lib/python3.9/site-packages/matplotlib/pyplot.py\n",
      "\u001b[0;31mType:\u001b[0m      function\n"
     ]
    }
   ],
   "source": [
    "plt.scatter?"
   ]
  },
  {
   "cell_type": "code",
   "execution_count": null,
   "metadata": {},
   "outputs": [],
   "source": []
  }
 ],
 "metadata": {
  "interpreter": {
   "hash": "e5bb554d05a99fcb469aefbbe8b3d465e2ced1619fb27441e07734f447fb6dcf"
  },
  "kernelspec": {
   "display_name": "Python 3.9.7 64-bit ('di504': conda)",
   "language": "python",
   "name": "python3"
  },
  "language_info": {
   "codemirror_mode": {
    "name": "ipython",
    "version": 3
   },
   "file_extension": ".py",
   "mimetype": "text/x-python",
   "name": "python",
   "nbconvert_exporter": "python",
   "pygments_lexer": "ipython3",
   "version": "3.9.7"
  },
  "orig_nbformat": 4
 },
 "nbformat": 4,
 "nbformat_minor": 2
}
